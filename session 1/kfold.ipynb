{
  "cells": [
    {
      "cell_type": "code",
      "execution_count": null,
      "metadata": {
        "id": "oCdH4fBwGdCY",
        "outputId": "81bc9f40-2d8b-48c8-b739-4e4f25b2e6f3"
      },
      "outputs": [
        {
          "name": "stderr",
          "output_type": "stream",
          "text": [
            "/Library/Frameworks/Python.framework/Versions/3.6/lib/python3.6/site-packages/sklearn/cross_validation.py:44: DeprecationWarning: This module was deprecated in version 0.18 in favor of the model_selection module into which all the refactored classes and functions are moved. Also note that the interface of the new CV iterators are different from that of this module. This module will be removed in 0.20.\n",
            "  \"This module will be removed in 0.20.\", DeprecationWarning)\n"
          ]
        }
      ],
      "source": [
        "# ============================== loading libraries ===========================================\n",
        "import numpy as np\n",
        "import pandas as pd\n",
        "import matplotlib.pyplot as plt\n",
        "from sklearn.cross_validation import train_test_split\n",
        "from sklearn.neighbors import KNeighborsClassifier\n",
        "from sklearn.metrics import accuracy_score\n",
        "from sklearn.cross_validation import cross_val_score\n",
        "from collections import Counter\n",
        "from sklearn.metrics import accuracy_score\n",
        "from sklearn import cross_validation\n",
        "# ============================================================================================="
      ]
    },
    {
      "cell_type": "code",
      "execution_count": null,
      "metadata": {
        "id": "UWsDjpSYGdCi",
        "outputId": "efa553ef-7ba0-45fa-a8ca-f167caa765ed"
      },
      "outputs": [
        {
          "name": "stdout",
          "output_type": "stream",
          "text": [
            "          x         y  class\n",
            "0  0.700335 -0.247068    0.0\n",
            "1 -3.950019  2.740080    1.0\n",
            "2  0.150222 -2.157638    1.0\n",
            "3 -1.672050 -0.941519    1.0\n",
            "4  2.560483 -1.846577    1.0\n"
          ]
        }
      ],
      "source": [
        "# Part I\n",
        "# ============================== data preprocessing ===========================================\n",
        "\n",
        "# define column names\n",
        "names = ['x', 'y', 'class']\n",
        "\n",
        "# loading training data\n",
        "df = pd.read_csv('./demo_data/3.concertriccir2.csv', header=None, names=names)\n",
        "print(df.head())\n",
        "\n",
        "# create design matrix X and target vector y\n",
        "X = np.array(df.iloc[:, 0:2]) # end index is exclusive\n",
        "y = np.array(df['class']) # showing you two ways of indexing a pandas df\n"
      ]
    },
    {
      "cell_type": "markdown",
      "metadata": {
        "id": "UVVtNgCFGdCm"
      },
      "source": [
        "### Simple Cross Validation "
      ]
    },
    {
      "cell_type": "code",
      "execution_count": null,
      "metadata": {
        "id": "T14J4B9FGdCn",
        "outputId": "47e53c29-b23b-407f-c26d-f4b1493ff29b",
        "scrolled": false
      },
      "outputs": [
        {
          "name": "stdout",
          "output_type": "stream",
          "text": [
            "\n",
            "CV accuracy for k = 1 is 100%\n",
            "\n",
            "CV accuracy for k = 3 is 100%\n",
            "\n",
            "CV accuracy for k = 5 is 100%\n",
            "\n",
            "CV accuracy for k = 7 is 99%\n",
            "\n",
            "CV accuracy for k = 9 is 99%\n",
            "\n",
            "CV accuracy for k = 11 is 97%\n",
            "\n",
            "CV accuracy for k = 13 is 97%\n",
            "\n",
            "CV accuracy for k = 15 is 95%\n",
            "\n",
            "CV accuracy for k = 17 is 94%\n",
            "\n",
            "CV accuracy for k = 19 is 94%\n",
            "\n",
            "CV accuracy for k = 21 is 93%\n",
            "\n",
            "CV accuracy for k = 23 is 94%\n",
            "\n",
            "CV accuracy for k = 25 is 94%\n",
            "\n",
            "CV accuracy for k = 27 is 92%\n",
            "\n",
            "CV accuracy for k = 29 is 92%\n",
            "\n",
            "****Test accuracy for k = 1 is 100%\n"
          ]
        }
      ],
      "source": [
        "# split the data set into train and test\n",
        "X_1, X_test, y_1, y_test = cross_validation.train_test_split(X, y, test_size=0.3, random_state=0)\n",
        "\n",
        "# split the train data set into cross validation train and cross validation test\n",
        "X_tr, X_cv, y_tr, y_cv = cross_validation.train_test_split(X_1, y_1, test_size=0.3)\n",
        "\n",
        "for i in range(1,30,2):\n",
        "    # instantiate learning model (k = 30)\n",
        "    knn = KNeighborsClassifier(n_neighbors=i)\n",
        "\n",
        "    # fitting the model on crossvalidation train\n",
        "    knn.fit(X_tr, y_tr)\n",
        "\n",
        "    # predict the response on the crossvalidation train\n",
        "    pred = knn.predict(X_cv)\n",
        "\n",
        "    # evaluate CV accuracy\n",
        "    acc = accuracy_score(y_cv, pred, normalize=True) * float(100)\n",
        "    print('\\nCV accuracy for k = %d is %d%%' % (i, acc))\n",
        "    \n",
        "knn = KNeighborsClassifier(1)\n",
        "knn.fit(X_tr,y_tr)\n",
        "pred = knn.predict(X_test)\n",
        "acc = accuracy_score(y_test, pred, normalize=True) * float(100)\n",
        "print('\\n****Test accuracy for k = 1 is %d%%' % (acc))"
      ]
    },
    {
      "cell_type": "markdown",
      "metadata": {
        "id": "ZRuToE6OGdCs"
      },
      "source": [
        "### 10 fold cross validation "
      ]
    },
    {
      "cell_type": "code",
      "execution_count": null,
      "metadata": {
        "id": "_f9Cr5pjGdCu",
        "outputId": "c5c3dfed-525e-4461-deb0-796c03c35ef8"
      },
      "outputs": [
        {
          "name": "stdout",
          "output_type": "stream",
          "text": [
            "\n",
            "The optimal number of neighbors is 1.\n"
          ]
        },
        {
          "data": {
            "image/png": "[encoded data removed]",
            "text/plain": [
              "<matplotlib.figure.Figure at 0x109f59080>"
            ]
          },
          "metadata": {
            "tags": []
          },
          "output_type": "display_data"
        },
        {
          "name": "stdout",
          "output_type": "stream",
          "text": [
            "the misclassification error for each k value is :  [ 0.     0.     0.     0.     0.     0.     0.003  0.011  0.025  0.037\n",
            "  0.043  0.051  0.083  0.097  0.114  0.137  0.151  0.166  0.183  0.2    0.203\n",
            "  0.223  0.243  0.246  0.28 ]\n"
          ]
        }
      ],
      "source": [
        "\n",
        "\n",
        "# creating odd list of K for KNN\n",
        "myList = list(range(0,50))\n",
        "neighbors = list(filter(lambda x: x % 2 != 0, myList))\n",
        "\n",
        "# empty list that will hold cv scores\n",
        "cv_scores = []\n",
        "\n",
        "# perform 10-fold cross validation\n",
        "for k in neighbors:\n",
        "    knn = KNeighborsClassifier(n_neighbors=k)\n",
        "    scores = cross_val_score(knn, X_train, y_train, cv=3, scoring='accuracy')\n",
        "    cv_scores.append(scores.mean())\n",
        "\n",
        "# changing to misclassification error\n",
        "MSE = [1 - x for x in cv_scores]\n",
        "\n",
        "# determining best k\n",
        "optimal_k = neighbors[MSE.index(min(MSE))]\n",
        "print('\\nThe optimal number of neighbors is %d.' % optimal_k)\n",
        "\n",
        "# plot misclassification error vs k \n",
        "plt.plot(neighbors, MSE)\n",
        "\n",
        "for xy in zip(neighbors, np.round(MSE,3)):\n",
        "    plt.annotate('(%s, %s)' % xy, xy=xy, textcoords='data')\n",
        "\n",
        "plt.xlabel('Number of Neighbors K')\n",
        "plt.ylabel('Misclassification Error')\n",
        "plt.show()\n",
        "\n",
        "print(\"the misclassification error for each k value is : \", np.round(MSE,3))"
      ]
    },
    {
      "cell_type": "code",
      "execution_count": null,
      "metadata": {
        "id": "SzVqv1-qGdCy",
        "outputId": "0deda05e-91f5-477a-df14-d463d2d27d08"
      },
      "outputs": [
        {
          "name": "stdout",
          "output_type": "stream",
          "text": [
            "\n",
            "The accuracy of the knn classifier for k = 1 is 99.333333%\n"
          ]
        }
      ],
      "source": [
        "# ============================== KNN with k = optimal_k ===============================================\n",
        "# instantiate learning model k = optimal_k\n",
        "knn_optimal = KNeighborsClassifier(n_neighbors=optimal_k)\n",
        "\n",
        "# fitting the model\n",
        "knn_optimal.fit(X_train, y_train)\n",
        "\n",
        "# predict the response\n",
        "pred = knn_optimal.predict(X_test)\n",
        "\n",
        "# evaluate accuracy\n",
        "acc = accuracy_score(y_test, pred) * 100\n",
        "print('\\nThe accuracy of the knn classifier for k = %d is %f%%' % (optimal_k, acc))"
      ]
    },
    {
      "cell_type": "code",
      "execution_count": null,
      "metadata": {
        "colab": {
          "base_uri": "https://localhost:8080/"
        },
        "id": "sHLRZhFfGdC4",
        "outputId": "9cde12a4-8217-4e64-9595-90748f5bf08b"
      },
      "outputs": [
        {
          "name": "stdout",
          "output_type": "stream",
          "text": [
            "1\n",
            "[[ 0.03807591  0.05068012  0.06169621 ... -0.00259226  0.01990842\n",
            "  -0.01764613]\n",
            " [-0.00188202 -0.04464164 -0.05147406 ... -0.03949338 -0.06832974\n",
            "  -0.09220405]\n",
            " [ 0.08529891  0.05068012  0.04445121 ... -0.00259226  0.00286377\n",
            "  -0.02593034]\n",
            " ...\n",
            " [-0.05637009 -0.04464164  0.09295276 ...  0.02545259  0.02605609\n",
            "   0.04034337]\n",
            " [-0.06000263  0.05068012  0.01535029 ... -0.00259226 -0.03075121\n",
            "  -0.0010777 ]\n",
            " [-0.04910502  0.05068012 -0.00512814 ...  0.07120998  0.06123791\n",
            "  -0.03835666]]\n",
            "3\n",
            "[[ 0.03807591  0.05068012  0.06169621 ... -0.00259226  0.01990842\n",
            "  -0.01764613]\n",
            " [-0.00188202 -0.04464164 -0.05147406 ... -0.03949338 -0.06832974\n",
            "  -0.09220405]\n",
            " [ 0.08529891  0.05068012  0.04445121 ... -0.00259226  0.00286377\n",
            "  -0.02593034]\n",
            " ...\n",
            " [-0.05637009 -0.04464164  0.09295276 ...  0.02545259  0.02605609\n",
            "   0.04034337]\n",
            " [-0.06000263  0.05068012  0.01535029 ... -0.00259226 -0.03075121\n",
            "  -0.0010777 ]\n",
            " [-0.04910502  0.05068012 -0.00512814 ...  0.07120998  0.06123791\n",
            "  -0.03835666]]\n",
            "5\n",
            "[[ 0.03807591  0.05068012  0.06169621 ... -0.00259226  0.01990842\n",
            "  -0.01764613]\n",
            " [-0.00188202 -0.04464164 -0.05147406 ... -0.03949338 -0.06832974\n",
            "  -0.09220405]\n",
            " [ 0.08529891  0.05068012  0.04445121 ... -0.00259226  0.00286377\n",
            "  -0.02593034]\n",
            " ...\n",
            " [-0.05637009 -0.04464164  0.09295276 ...  0.02545259  0.02605609\n",
            "   0.04034337]\n",
            " [-0.06000263  0.05068012  0.01535029 ... -0.00259226 -0.03075121\n",
            "  -0.0010777 ]\n",
            " [-0.04910502  0.05068012 -0.00512814 ...  0.07120998  0.06123791\n",
            "  -0.03835666]]\n",
            "7\n",
            "[[ 0.03807591  0.05068012  0.06169621 ... -0.00259226  0.01990842\n",
            "  -0.01764613]\n",
            " [-0.00188202 -0.04464164 -0.05147406 ... -0.03949338 -0.06832974\n",
            "  -0.09220405]\n",
            " [ 0.08529891  0.05068012  0.04445121 ... -0.00259226  0.00286377\n",
            "  -0.02593034]\n",
            " ...\n",
            " [-0.05637009 -0.04464164  0.09295276 ...  0.02545259  0.02605609\n",
            "   0.04034337]\n",
            " [-0.06000263  0.05068012  0.01535029 ... -0.00259226 -0.03075121\n",
            "  -0.0010777 ]\n",
            " [-0.04910502  0.05068012 -0.00512814 ...  0.07120998  0.06123791\n",
            "  -0.03835666]]\n",
            "9\n",
            "[[ 0.03807591  0.05068012  0.06169621 ... -0.00259226  0.01990842\n",
            "  -0.01764613]\n",
            " [-0.00188202 -0.04464164 -0.05147406 ... -0.03949338 -0.06832974\n",
            "  -0.09220405]\n",
            " [ 0.08529891  0.05068012  0.04445121 ... -0.00259226  0.00286377\n",
            "  -0.02593034]\n",
            " ...\n",
            " [-0.05637009 -0.04464164  0.09295276 ...  0.02545259  0.02605609\n",
            "   0.04034337]\n",
            " [-0.06000263  0.05068012  0.01535029 ... -0.00259226 -0.03075121\n",
            "  -0.0010777 ]\n",
            " [-0.04910502  0.05068012 -0.00512814 ...  0.07120998  0.06123791\n",
            "  -0.03835666]]\n"
          ]
        },
        {
          "name": "stderr",
          "output_type": "stream",
          "text": [
            "/usr/local/lib/python3.6/dist-packages/sklearn/model_selection/_split.py:667: UserWarning: The least populated class in y has only 1 members, which is less than n_splits=2.\n",
            "  % (min_groups, self.n_splits)), UserWarning)\n",
            "/usr/local/lib/python3.6/dist-packages/sklearn/model_selection/_split.py:667: UserWarning: The least populated class in y has only 1 members, which is less than n_splits=2.\n",
            "  % (min_groups, self.n_splits)), UserWarning)\n",
            "/usr/local/lib/python3.6/dist-packages/sklearn/model_selection/_split.py:667: UserWarning: The least populated class in y has only 1 members, which is less than n_splits=2.\n",
            "  % (min_groups, self.n_splits)), UserWarning)\n",
            "/usr/local/lib/python3.6/dist-packages/sklearn/model_selection/_split.py:667: UserWarning: The least populated class in y has only 1 members, which is less than n_splits=2.\n",
            "  % (min_groups, self.n_splits)), UserWarning)\n",
            "/usr/local/lib/python3.6/dist-packages/sklearn/model_selection/_split.py:667: UserWarning: The least populated class in y has only 1 members, which is less than n_splits=2.\n",
            "  % (min_groups, self.n_splits)), UserWarning)\n"
          ]
        }
      ],
      "source": [
        "from sklearn.model_selection import cross_val_score\n",
        "from sklearn import datasets, linear_model\n",
        "from sklearn.neighbors import KNeighborsClassifier\n",
        "diabetes = datasets.load_diabetes()\n",
        "X = diabetes.data[:150]\n",
        "y = diabetes.target[:150]\n",
        "# creating odd list of K for KNN\n",
        "myList = list(range(0,10))\n",
        "neighbors = list(filter(lambda x: x % 2 != 0, myList))\n",
        "\n",
        "# empty list that will hold cv scores\n",
        "cv_scores = []\n",
        "\n",
        "# perform 10-fold cross validation\n",
        "for k in neighbors:\n",
        "    print(k)\n",
        "    knn = KNeighborsClassifier(n_neighbors=k)\n",
        "    \n",
        "    scores = cross_val_score(knn, X, y, cv=2, scoring='accuracy')\n",
        "    print(X)\n",
        "    cv_scores.append(scores.mean())\n"
      ]
    },
    {
      "cell_type": "code",
      "execution_count": null,
      "metadata": {
        "id": "Dr9HOKLdGdC8"
      },
      "outputs": [],
      "source": []
    }
  ],
  "metadata": {
    "colab": {
      "collapsed_sections": [],
      "provenance": []
    },
    "kernelspec": {
      "display_name": "Python 3.10.1 64-bit",
      "language": "python",
      "name": "python3"
    },
    "language_info": {
      "name": "python",
      "version": "3.10.1"
    },
    "vscode": {
      "interpreter": {
        "hash": "99204c444345795c4ca837686095d527515c3771a3f0fcd505d0db62fddf00d3"
      }
    }
  },
  "nbformat": 4,
  "nbformat_minor": 0
}
